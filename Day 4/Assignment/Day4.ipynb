{
  "nbformat": 4,
  "nbformat_minor": 0,
  "metadata": {
    "colab": {
      "name": "Day4.ipynb",
      "provenance": []
    },
    "kernelspec": {
      "name": "python3",
      "display_name": "Python 3"
    }
  },
  "cells": [
    {
      "cell_type": "code",
      "metadata": {
        "id": "-E3F55mnkFIn",
        "colab_type": "code",
        "colab": {
          "base_uri": "https://localhost:8080/",
          "height": 86
        },
        "outputId": "47f3b307-ede6-44a1-ae8b-de63081f344a"
      },
      "source": [
        "x=int(input(\"lower limit: \"))\n",
        "y=int(input(\"upper limit: \"))\n",
        "print(\"First Armstrong Number is: \")\n",
        "for Number in range(x,y):\n",
        " digits=0\n",
        " temp=Number\n",
        " while temp>0: # no of digits\n",
        "  digits=digits+1\n",
        "  temp=temp//10\n",
        " sum=0\n",
        " temp=Number\n",
        " while temp>0: # calculate armstrong number\n",
        "  last_digit=temp%10\n",
        "  sum=sum+(last_digit**digits)\n",
        "  temp=temp//10\n",
        " if Number == sum:\n",
        "    print(Number)\n",
        "    break"
      ],
      "execution_count": 1,
      "outputs": [
        {
          "output_type": "stream",
          "text": [
            "lower limit: 1042000\n",
            "upper limit: 702648265\n",
            "First Armstrong Number is: \n",
            "1741725\n"
          ],
          "name": "stdout"
        }
      ]
    }
  ]
}